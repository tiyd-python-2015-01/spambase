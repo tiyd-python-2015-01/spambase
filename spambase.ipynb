{
 "metadata": {
  "name": "",
  "signature": "sha256:cf4efd6286bc94cf20ff115121279da52b3af2f1b90a19860f43be7989102381"
 },
 "nbformat": 3,
 "nbformat_minor": 0,
 "worksheets": [
  {
   "cells": [
    {
     "cell_type": "code",
     "collapsed": false,
     "input": [
      "import matplotlib.pyplot as plt\n",
      "import numpy as np\n",
      "import pandas as pd\n",
      "from sklearn.naive_bayes import GaussianNB, MultinomialNB\n",
      "from sklearn.svm import SVC, LinearSVC\n",
      "from sklearn.ensemble import RandomForestClassifier, GradientBoostingClassifier, ExtraTreesClassifier, AdaBoostClassifier\n",
      "from sklearn.metrics import classification_report, f1_score, accuracy_score, confusion_matrix\n",
      "from sklearn.cross_validation import cross_val_score, train_test_split \n",
      "from sklearn.feature_selection import SelectKBest, chi2"
     ],
     "language": "python",
     "metadata": {},
     "outputs": [],
     "prompt_number": 2
    },
    {
     "cell_type": "code",
     "collapsed": false,
     "input": [
      "%matplotlib inline"
     ],
     "language": "python",
     "metadata": {},
     "outputs": [],
     "prompt_number": 3
    },
    {
     "cell_type": "code",
     "collapsed": false,
     "input": [
      "spam_data = pd.read_csv(\"spambase.data\", header=None)"
     ],
     "language": "python",
     "metadata": {},
     "outputs": [],
     "prompt_number": 4
    },
    {
     "cell_type": "code",
     "collapsed": false,
     "input": [
      "def show_binary_plot(data, prediction):\n",
      "    plt.matshow(confusion_matrix(data, prediction), cmap=plt.cm.binary, interpolation='nearest')\n",
      "    plt.title('confusion matrix')\n",
      "    plt.colorbar()\n",
      "    plt.ylabel('expected label')\n",
      "    plt.xlabel('predicted label')"
     ],
     "language": "python",
     "metadata": {},
     "outputs": [],
     "prompt_number": 5
    },
    {
     "cell_type": "code",
     "collapsed": false,
     "input": [
      "def show_results(data, prediction):\n",
      "    print(classification_report(data, prediction))\n",
      "    print(confusion_matrix(data, prediction))\n",
      "    print(f1_score(data, prediction))"
     ],
     "language": "python",
     "metadata": {},
     "outputs": [],
     "prompt_number": 6
    },
    {
     "cell_type": "code",
     "collapsed": false,
     "input": [
      "spam_data.info()"
     ],
     "language": "python",
     "metadata": {},
     "outputs": [
      {
       "output_type": "stream",
       "stream": "stdout",
       "text": [
        "<class 'pandas.core.frame.DataFrame'>\n",
        "Int64Index: 4601 entries, 0 to 4600\n",
        "Data columns (total 58 columns):\n",
        "0     4601 non-null float64\n",
        "1     4601 non-null float64\n",
        "2     4601 non-null float64\n",
        "3     4601 non-null float64\n",
        "4     4601 non-null float64\n",
        "5     4601 non-null float64\n",
        "6     4601 non-null float64\n",
        "7     4601 non-null float64\n",
        "8     4601 non-null float64\n",
        "9     4601 non-null float64\n",
        "10    4601 non-null float64\n",
        "11    4601 non-null float64\n",
        "12    4601 non-null float64\n",
        "13    4601 non-null float64\n",
        "14    4601 non-null float64\n",
        "15    4601 non-null float64\n",
        "16    4601 non-null float64\n",
        "17    4601 non-null float64\n",
        "18    4601 non-null float64\n",
        "19    4601 non-null float64\n",
        "20    4601 non-null float64\n",
        "21    4601 non-null float64\n",
        "22    4601 non-null float64\n",
        "23    4601 non-null float64\n",
        "24    4601 non-null float64\n",
        "25    4601 non-null float64\n",
        "26    4601 non-null float64\n",
        "27    4601 non-null float64\n",
        "28    4601 non-null float64\n",
        "29    4601 non-null float64\n",
        "30    4601 non-null float64\n",
        "31    4601 non-null float64\n",
        "32    4601 non-null float64\n",
        "33    4601 non-null float64\n",
        "34    4601 non-null float64\n",
        "35    4601 non-null float64\n",
        "36    4601 non-null float64\n",
        "37    4601 non-null float64\n",
        "38    4601 non-null float64\n",
        "39    4601 non-null float64\n",
        "40    4601 non-null float64\n",
        "41    4601 non-null float64\n",
        "42    4601 non-null float64\n",
        "43    4601 non-null float64\n",
        "44    4601 non-null float64\n",
        "45    4601 non-null float64\n",
        "46    4601 non-null float64\n",
        "47    4601 non-null float64\n",
        "48    4601 non-null float64\n",
        "49    4601 non-null float64\n",
        "50    4601 non-null float64\n",
        "51    4601 non-null float64\n",
        "52    4601 non-null float64\n",
        "53    4601 non-null float64\n",
        "54    4601 non-null float64\n",
        "55    4601 non-null int64\n",
        "56    4601 non-null int64\n",
        "57    4601 non-null int64\n",
        "dtypes: float64(55), int64(3)\n",
        "memory usage: 2.1 MB\n"
       ]
      }
     ],
     "prompt_number": 7
    },
    {
     "cell_type": "code",
     "collapsed": false,
     "input": [
      "results = spam_data[57]\n",
      "spam_data = spam_data.drop(57, axis=1)"
     ],
     "language": "python",
     "metadata": {},
     "outputs": [],
     "prompt_number": 8
    },
    {
     "cell_type": "code",
     "collapsed": false,
     "input": [
      "train_data, test_data, train_results, test_results = train_test_split(spam_data, results, \n",
      "                                                                      test_size=0.6, random_state=0)"
     ],
     "language": "python",
     "metadata": {},
     "outputs": [],
     "prompt_number": 9
    },
    {
     "cell_type": "heading",
     "level": 2,
     "metadata": {},
     "source": [
      "Gaussian Naive Bayes"
     ]
    },
    {
     "cell_type": "code",
     "collapsed": false,
     "input": [
      "\"\"\"Create Gaussian Naive Bayes learner and apply it to test data.  Then make predictions on test data\"\"\"\n",
      "gaussian_learner = GaussianNB()\n",
      "gaussian_learner.fit(train_data, train_results)\n",
      "gaussian_predictions = gaussian_learner.predict(test_data)"
     ],
     "language": "python",
     "metadata": {},
     "outputs": [],
     "prompt_number": 10
    },
    {
     "cell_type": "code",
     "collapsed": false,
     "input": [
      "show_results(test_results, gaussian_predictions)"
     ],
     "language": "python",
     "metadata": {},
     "outputs": [
      {
       "output_type": "stream",
       "stream": "stdout",
       "text": [
        "             precision    recall  f1-score   support\n",
        "\n",
        "          0       0.95      0.75      0.84      1633\n",
        "          1       0.73      0.94      0.82      1128\n",
        "\n",
        "avg / total       0.86      0.83      0.83      2761\n",
        "\n",
        "[[1231  402]\n",
        " [  64 1064]]\n",
        "0.820354664611\n"
       ]
      }
     ],
     "prompt_number": 11
    },
    {
     "cell_type": "code",
     "collapsed": false,
     "input": [
      "show_binary_plot(test_results, gaussian_predictions)"
     ],
     "language": "python",
     "metadata": {},
     "outputs": [
      {
       "metadata": {},
       "output_type": "display_data",
       "png": "[encoded data removed]",
       "text": [
        "<matplotlib.figure.Figure at 0x10fbd5da0>"
       ]
      }
     ],
     "prompt_number": 12
    },
    {
     "cell_type": "heading",
     "level": 2,
     "metadata": {},
     "source": [
      "Multinominal Naive Bayes"
     ]
    },
    {
     "cell_type": "code",
     "collapsed": false,
     "input": [
      "\"\"\"Create Gaussian Naive Bayes learner and apply it to test data.  Then make predictions on test data\"\"\"\n",
      "multinomial_learner = MultinomialNB()\n",
      "multinomial_learner.fit(train_data, train_results)\n",
      "multinomial_predictions = multinomial_learner.predict(test_data)"
     ],
     "language": "python",
     "metadata": {},
     "outputs": [],
     "prompt_number": 13
    },
    {
     "cell_type": "code",
     "collapsed": false,
     "input": [
      "show_results(test_results, multinomial_predictions)"
     ],
     "language": "python",
     "metadata": {},
     "outputs": [
      {
       "output_type": "stream",
       "stream": "stdout",
       "text": [
        "             precision    recall  f1-score   support\n",
        "\n",
        "          0       0.82      0.88      0.85      1633\n",
        "          1       0.80      0.72      0.76      1128\n",
        "\n",
        "avg / total       0.81      0.81      0.81      2761\n",
        "\n",
        "[[1434  199]\n",
        " [ 314  814]]\n",
        "0.760392340028\n"
       ]
      }
     ],
     "prompt_number": 14
    },
    {
     "cell_type": "code",
     "collapsed": false,
     "input": [
      "show_binary_plot(test_results, multinomial_predictions)"
     ],
     "language": "python",
     "metadata": {},
     "outputs": [
      {
       "metadata": {},
       "output_type": "display_data",
       "png": "[encoded data removed]",
       "text": [
        "<matplotlib.figure.Figure at 0x1151e3e80>"
       ]
      }
     ],
     "prompt_number": 15
    },
    {
     "cell_type": "heading",
     "level": 2,
     "metadata": {},
     "source": [
      "Support Vector Machines"
     ]
    },
    {
     "cell_type": "code",
     "collapsed": false,
     "input": [
      "svc_learner = SVC()\n",
      "svc_learner.fit(train_data, train_results)\n",
      "svc_learner_predictions = svc_learner.predict(test_data)"
     ],
     "language": "python",
     "metadata": {},
     "outputs": [],
     "prompt_number": 16
    },
    {
     "cell_type": "code",
     "collapsed": false,
     "input": [
      "show_results(test_results, svc_learner_predictions)"
     ],
     "language": "python",
     "metadata": {},
     "outputs": [
      {
       "output_type": "stream",
       "stream": "stdout",
       "text": [
        "             precision    recall  f1-score   support\n",
        "\n",
        "          0       0.81      0.84      0.83      1633\n",
        "          1       0.76      0.72      0.74      1128\n",
        "\n",
        "avg / total       0.79      0.79      0.79      2761\n",
        "\n",
        "[[1371  262]\n",
        " [ 317  811]]\n",
        "0.736937755566\n"
       ]
      }
     ],
     "prompt_number": 17
    },
    {
     "cell_type": "code",
     "collapsed": false,
     "input": [
      "show_binary_plot(test_results, svc_learner_predictions)"
     ],
     "language": "python",
     "metadata": {},
     "outputs": [
      {
       "metadata": {},
       "output_type": "display_data",
       "png": "[encoded data removed]",
       "text": [
        "<matplotlib.figure.Figure at 0x115afa9b0>"
       ]
      }
     ],
     "prompt_number": 18
    },
    {
     "cell_type": "code",
     "collapsed": false,
     "input": [
      "linear_svc = LinearSVC()\n",
      "linear_svc.fit(train_data, train_results)\n",
      "linear_svc_predictions = linear_svc.predict(test_data)"
     ],
     "language": "python",
     "metadata": {},
     "outputs": [],
     "prompt_number": 19
    },
    {
     "cell_type": "code",
     "collapsed": false,
     "input": [
      "show_results(test_results, linear_svc_predictions)"
     ],
     "language": "python",
     "metadata": {},
     "outputs": [
      {
       "output_type": "stream",
       "stream": "stdout",
       "text": [
        "             precision    recall  f1-score   support\n",
        "\n",
        "          0       0.85      0.95      0.90      1633\n",
        "          1       0.91      0.75      0.82      1128\n",
        "\n",
        "avg / total       0.87      0.87      0.87      2761\n",
        "\n",
        "[[1550   83]\n",
        " [ 280  848]]\n",
        "0.823700825644\n"
       ]
      }
     ],
     "prompt_number": 20
    },
    {
     "cell_type": "code",
     "collapsed": false,
     "input": [
      "show_binary_plot(test_results, linear_svc_predictions)"
     ],
     "language": "python",
     "metadata": {},
     "outputs": [
      {
       "metadata": {},
       "output_type": "display_data",
       "png": "[encoded data removed]",
       "text": [
        "<matplotlib.figure.Figure at 0x115bb8da0>"
       ]
      }
     ],
     "prompt_number": 21
    },
    {
     "cell_type": "heading",
     "level": 2,
     "metadata": {},
     "source": [
      "Random Forest Classifier"
     ]
    },
    {
     "cell_type": "code",
     "collapsed": false,
     "input": [
      "random_forest_learner = RandomForestClassifier(n_estimators=500)\n",
      "random_forest_learner.fit(train_data, train_results)\n",
      "random_forest_predictions = random_forest_learner.predict(test_data)"
     ],
     "language": "python",
     "metadata": {},
     "outputs": [],
     "prompt_number": 22
    },
    {
     "cell_type": "code",
     "collapsed": false,
     "input": [
      "show_results(test_results, random_forest_predictions)"
     ],
     "language": "python",
     "metadata": {},
     "outputs": [
      {
       "output_type": "stream",
       "stream": "stdout",
       "text": [
        "             precision    recall  f1-score   support\n",
        "\n",
        "          0       0.94      0.97      0.95      1633\n",
        "          1       0.96      0.90      0.93      1128\n",
        "\n",
        "avg / total       0.94      0.94      0.94      2761\n",
        "\n",
        "[[1588   45]\n",
        " [ 110 1018]]\n",
        "0.929256047467\n"
       ]
      }
     ],
     "prompt_number": 23
    },
    {
     "cell_type": "code",
     "collapsed": false,
     "input": [
      "show_binary_plot(test_results, random_forest_predictions)"
     ],
     "language": "python",
     "metadata": {},
     "outputs": [
      {
       "metadata": {},
       "output_type": "display_data",
       "png": "[encoded data removed]",
       "text": [
        "<matplotlib.figure.Figure at 0x115bfb7f0>"
       ]
      }
     ],
     "prompt_number": 24
    },
    {
     "cell_type": "heading",
     "level": 2,
     "metadata": {},
     "source": [
      "Gradient Boosting Classifier"
     ]
    },
    {
     "cell_type": "code",
     "collapsed": false,
     "input": [
      "gradient_learner = GradientBoostingClassifier(n_estimators=500, learning_rate=1, max_depth=1, random_state=0)\n",
      "gradient_learner.fit(train_data, train_results)\n",
      "gradient_predictions = gradient_learner.predict(test_data)"
     ],
     "language": "python",
     "metadata": {},
     "outputs": [],
     "prompt_number": 316
    },
    {
     "cell_type": "code",
     "collapsed": false,
     "input": [
      "show_results(test_results, gradient_predictions)"
     ],
     "language": "python",
     "metadata": {},
     "outputs": [
      {
       "output_type": "stream",
       "stream": "stdout",
       "text": [
        "             precision    recall  f1-score   support\n",
        "\n",
        "          0       0.94      0.95      0.95      1363\n",
        "          1       0.93      0.91      0.92       938\n",
        "\n",
        "avg / total       0.94      0.94      0.94      2301\n",
        "\n",
        "[[1301   62]\n",
        " [  84  854]]\n",
        "0.921251348436\n"
       ]
      }
     ],
     "prompt_number": 317
    },
    {
     "cell_type": "code",
     "collapsed": false,
     "input": [
      "show_binary_plot(test_results, gradient_predictions)"
     ],
     "language": "python",
     "metadata": {},
     "outputs": [
      {
       "metadata": {},
       "output_type": "display_data",
       "png": "[encoded data removed]",
       "text": [
        "<matplotlib.figure.Figure at 0x1158ef668>"
       ]
      }
     ],
     "prompt_number": 318
    },
    {
     "cell_type": "heading",
     "level": 2,
     "metadata": {},
     "source": [
      "Extra Tree Classifier"
     ]
    },
    {
     "cell_type": "code",
     "collapsed": false,
     "input": [
      "extra_tree = ExtraTreesClassifier(n_estimators=10, max_depth=None, min_samples_split=1, random_state=0)\n",
      "extra_tree.fit(train_data, train_results)\n",
      "extra_tree_predictions = extra_tree.predict(test_data)"
     ],
     "language": "python",
     "metadata": {},
     "outputs": [],
     "prompt_number": 319
    },
    {
     "cell_type": "code",
     "collapsed": false,
     "input": [
      "show_results(test_results, extra_tree_predictions)"
     ],
     "language": "python",
     "metadata": {},
     "outputs": [
      {
       "output_type": "stream",
       "stream": "stdout",
       "text": [
        "             precision    recall  f1-score   support\n",
        "\n",
        "          0       0.94      0.96      0.95      1363\n",
        "          1       0.94      0.91      0.93       938\n",
        "\n",
        "avg / total       0.94      0.94      0.94      2301\n",
        "\n",
        "[[1312   51]\n",
        " [  87  851]]\n",
        "0.925\n"
       ]
      }
     ],
     "prompt_number": 320
    },
    {
     "cell_type": "code",
     "collapsed": false,
     "input": [
      "show_binary_plot(test_results, extra_tree_predictions)"
     ],
     "language": "python",
     "metadata": {},
     "outputs": [
      {
       "metadata": {},
       "output_type": "display_data",
       "png": "[encoded data removed]",
       "text": [
        "<matplotlib.figure.Figure at 0x11611c828>"
       ]
      }
     ],
     "prompt_number": 321
    },
    {
     "cell_type": "heading",
     "level": 2,
     "metadata": {},
     "source": [
      "Finding and Removing Less Useful Columns +  Bagging"
     ]
    },
    {
     "cell_type": "code",
     "collapsed": false,
     "input": [
      "new_data = SelectKBest(chi2, k=50).fit_transform(spam_data, results)"
     ],
     "language": "python",
     "metadata": {},
     "outputs": [],
     "prompt_number": 322
    },
    {
     "cell_type": "code",
     "collapsed": false,
     "input": [
      "train_data, test_data, train_results, test_results = train_test_split(new_data, results, \n",
      "                                                                      test_size=0.4, random_state=0)"
     ],
     "language": "python",
     "metadata": {},
     "outputs": [],
     "prompt_number": 323
    },
    {
     "cell_type": "code",
     "collapsed": false,
     "input": [
      "random_forest_learner = RandomForestClassifier(n_estimators=500)\n",
      "random_forest_learner.fit(train_data, train_results)\n",
      "random_forest_predictions = random_forest_learner.predict(test_data)"
     ],
     "language": "python",
     "metadata": {},
     "outputs": [],
     "prompt_number": 324
    },
    {
     "cell_type": "code",
     "collapsed": false,
     "input": [
      "show_results(test_results, random_forest_predictions)"
     ],
     "language": "python",
     "metadata": {},
     "outputs": [
      {
       "output_type": "stream",
       "stream": "stdout",
       "text": [
        "             precision    recall  f1-score   support\n",
        "\n",
        "          0       0.95      0.97      0.96      1097\n",
        "          1       0.95      0.92      0.94       744\n",
        "\n",
        "avg / total       0.95      0.95      0.95      1841\n",
        "\n",
        "[[1064   33]\n",
        " [  61  683]]\n",
        "0.935616438356\n"
       ]
      }
     ],
     "prompt_number": 325
    },
    {
     "cell_type": "code",
     "collapsed": false,
     "input": [
      "show_binary_plot(test_results, random_forest_predictions)"
     ],
     "language": "python",
     "metadata": {},
     "outputs": [
      {
       "metadata": {},
       "output_type": "display_data",
       "png": "[encoded data removed]",
       "text": [
        "<matplotlib.figure.Figure at 0x115194b38>"
       ]
      }
     ],
     "prompt_number": 326
    },
    {
     "cell_type": "code",
     "collapsed": false,
     "input": [
      "gradient_learner = GradientBoostingClassifier(n_estimators=70, learning_rate=1, max_depth=1, random_state=0)\n",
      "gradient_learner.fit(train_data, train_results)\n",
      "gradient_predictions = gradient_learner.predict(test_data)"
     ],
     "language": "python",
     "metadata": {},
     "outputs": [],
     "prompt_number": 327
    },
    {
     "cell_type": "code",
     "collapsed": false,
     "input": [
      "show_results(test_results, gradient_predictions)"
     ],
     "language": "python",
     "metadata": {},
     "outputs": [
      {
       "output_type": "stream",
       "stream": "stdout",
       "text": [
        "             precision    recall  f1-score   support\n",
        "\n",
        "          0       0.94      0.96      0.95      1097\n",
        "          1       0.94      0.91      0.93       744\n",
        "\n",
        "avg / total       0.94      0.94      0.94      1841\n",
        "\n",
        "[[1055   42]\n",
        " [  64  680]]\n",
        "0.927694406548\n"
       ]
      }
     ],
     "prompt_number": 328
    },
    {
     "cell_type": "code",
     "collapsed": false,
     "input": [
      "show_binary_plot(test_results, gradient_predictions)"
     ],
     "language": "python",
     "metadata": {},
     "outputs": [
      {
       "metadata": {},
       "output_type": "display_data",
       "png": "[encoded data removed]",
       "text": [
        "<matplotlib.figure.Figure at 0x115a90400>"
       ]
      }
     ],
     "prompt_number": 329
    },
    {
     "cell_type": "code",
     "collapsed": false,
     "input": [
      "extra_tree = ExtraTreesClassifier(n_estimators=10, max_depth=None, min_samples_split=1, random_state=0)\n",
      "extra_tree.fit(train_data, train_results)\n",
      "extra_tree_predictions = extra_tree.predict(test_data)"
     ],
     "language": "python",
     "metadata": {},
     "outputs": [],
     "prompt_number": 112
    },
    {
     "cell_type": "code",
     "collapsed": false,
     "input": [
      "show_results(test_results, extra_tree_predictions)"
     ],
     "language": "python",
     "metadata": {},
     "outputs": [
      {
       "output_type": "stream",
       "stream": "stdout",
       "text": [
        "             precision    recall  f1-score   support\n",
        "\n",
        "          0       0.93      0.97      0.95      1097\n",
        "          1       0.96      0.90      0.93       744\n",
        "\n",
        "avg / total       0.94      0.94      0.94      1841\n",
        "\n",
        "[[1066   31]\n",
        " [  77  667]]\n",
        "0.925104022191\n"
       ]
      }
     ],
     "prompt_number": 113
    },
    {
     "cell_type": "code",
     "collapsed": false,
     "input": [
      "show_binary_plot(test_results, extra_tree_predictions)"
     ],
     "language": "python",
     "metadata": {},
     "outputs": [
      {
       "metadata": {},
       "output_type": "display_data",
       "png": "[encoded data removed]",
       "text": [
        "<matplotlib.figure.Figure at 0x1151a3278>"
       ]
      }
     ],
     "prompt_number": 114
    },
    {
     "cell_type": "code",
     "collapsed": false,
     "input": [
      "gaussian_learner = GaussianNB()\n",
      "gaussian_learner.fit(train_data, train_results)\n",
      "gaussian_predictions = gaussian_learner.predict(test_data)"
     ],
     "language": "python",
     "metadata": {},
     "outputs": [],
     "prompt_number": 115
    },
    {
     "cell_type": "code",
     "collapsed": false,
     "input": [
      "show_results(test_results, gaussian_predictions)"
     ],
     "language": "python",
     "metadata": {},
     "outputs": [
      {
       "output_type": "stream",
       "stream": "stdout",
       "text": [
        "             precision    recall  f1-score   support\n",
        "\n",
        "          0       0.95      0.73      0.83      1097\n",
        "          1       0.70      0.94      0.81       744\n",
        "\n",
        "avg / total       0.85      0.82      0.82      1841\n",
        "\n",
        "[[804 293]\n",
        " [ 45 699]]\n",
        "0.805299539171\n"
       ]
      }
     ],
     "prompt_number": 116
    },
    {
     "cell_type": "code",
     "collapsed": false,
     "input": [
      "show_binary_plot(test_results, extra_tree_predictions)"
     ],
     "language": "python",
     "metadata": {},
     "outputs": [
      {
       "metadata": {},
       "output_type": "display_data",
       "png": "[encoded data removed]",
       "text": [
        "<matplotlib.figure.Figure at 0x1151c38d0>"
       ]
      }
     ],
     "prompt_number": 117
    },
    {
     "cell_type": "code",
     "collapsed": false,
     "input": [
      "ada_boost = AdaBoostClassifier()\n",
      "ada_boost.fit(train_data, train_results)\n",
      "ada_predictions = ada_boost.predict(test_data)"
     ],
     "language": "python",
     "metadata": {},
     "outputs": [],
     "prompt_number": 118
    },
    {
     "cell_type": "code",
     "collapsed": false,
     "input": [
      "show_results(test_results, ada_predictions)"
     ],
     "language": "python",
     "metadata": {},
     "outputs": [
      {
       "output_type": "stream",
       "stream": "stdout",
       "text": [
        "             precision    recall  f1-score   support\n",
        "\n",
        "          0       0.92      0.95      0.94      1097\n",
        "          1       0.93      0.88      0.91       744\n",
        "\n",
        "avg / total       0.93      0.93      0.93      1841\n",
        "\n",
        "[[1046   51]\n",
        " [  86  658]]\n",
        "0.905712319339\n"
       ]
      }
     ],
     "prompt_number": 119
    },
    {
     "cell_type": "code",
     "collapsed": false,
     "input": [
      "show_binary_plot(test_results, ada_predictions)"
     ],
     "language": "python",
     "metadata": {},
     "outputs": [
      {
       "metadata": {},
       "output_type": "display_data",
       "png": "[encoded data removed]",
       "text": [
        "<matplotlib.figure.Figure at 0x115aee5f8>"
       ]
      }
     ],
     "prompt_number": 120
    },
    {
     "cell_type": "heading",
     "level": 2,
     "metadata": {},
     "source": [
      "Machine Learning Democracy - Bootstrap Aggregation"
     ]
    },
    {
     "cell_type": "code",
     "collapsed": false,
     "input": [
      "democratic_predictions = (random_forest_predictions + gradient_predictions + extra_tree_predictions \n",
      "                          + gaussian_predictions + ada_predictions)"
     ],
     "language": "python",
     "metadata": {},
     "outputs": [],
     "prompt_number": 121
    },
    {
     "cell_type": "code",
     "collapsed": false,
     "input": [
      "democratic_results = []\n",
      "\n",
      "for element in democratic_predictions:\n",
      "    if element >= 3:\n",
      "        democratic_results.append(1)\n",
      "    else:\n",
      "        democratic_results.append(0)\n",
      "\n",
      "        \n",
      "democratic_predictions = np.array(democratic_results)"
     ],
     "language": "python",
     "metadata": {},
     "outputs": [],
     "prompt_number": 122
    },
    {
     "cell_type": "code",
     "collapsed": false,
     "input": [
      "show_results(test_results, democratic_predictions)"
     ],
     "language": "python",
     "metadata": {},
     "outputs": [
      {
       "output_type": "stream",
       "stream": "stdout",
       "text": [
        "             precision    recall  f1-score   support\n",
        "\n",
        "          0       0.95      0.97      0.96      1097\n",
        "          1       0.95      0.92      0.94       744\n",
        "\n",
        "avg / total       0.95      0.95      0.95      1841\n",
        "\n",
        "[[1059   38]\n",
        " [  56  688]]\n",
        "0.936054421769\n"
       ]
      }
     ],
     "prompt_number": 123
    },
    {
     "cell_type": "heading",
     "level": 2,
     "metadata": {},
     "source": [
      "Bagging With Different Random Samples"
     ]
    },
    {
     "cell_type": "code",
     "collapsed": false,
     "input": [
      "train_data, test_data, train_results, test_results = train_test_split(new_data, results, \n",
      "                                                                      test_size=0.5, random_state=0)"
     ],
     "language": "python",
     "metadata": {},
     "outputs": [],
     "prompt_number": 306
    },
    {
     "cell_type": "code",
     "collapsed": false,
     "input": [
      "train_data1, test_data1, train_results1, test_results1 = train_test_split(train_data, train_results, test_size=0.2, random_state=3)\n",
      "train_data2, test_data2, train_results2, test_results2 = train_test_split(train_data, train_results, test_size=0.2, random_state=7)\n",
      "train_data3, test_data3, train_results3, test_results3 = train_test_split(train_data, train_results, test_size=0.2, random_state=11)\n",
      "train_data4, test_data4, train_results4, test_results4 = train_test_split(train_data, train_results, test_size=0.2, random_state=13)\n",
      "train_data5, test_data5, train_results5, test_results5 = train_test_split(train_data, train_results, test_size=0.2, random_state=17)"
     ],
     "language": "python",
     "metadata": {},
     "outputs": [],
     "prompt_number": 307
    },
    {
     "cell_type": "code",
     "collapsed": false,
     "input": [
      "random_forest_learner = RandomForestClassifier(n_estimators=100)\n",
      "random_forest_learner.fit(train_data1, train_results1)\n",
      "random_forest_predictions = random_forest_learner.predict(test_data)\n",
      "\n",
      "gradient_learner = GradientBoostingClassifier(n_estimators=100, learning_rate=1, max_depth=1)\n",
      "gradient_learner.fit(train_data2, train_results2)\n",
      "gradient_predictions = gradient_learner.predict(test_data)\n",
      "\n",
      "extra_tree = ExtraTreesClassifier(n_estimators=100, max_depth=None, min_samples_split=1)\n",
      "extra_tree.fit(train_data3, train_results3)\n",
      "extra_tree_predictions = extra_tree.predict(test_data)\n",
      "\n",
      "gaussian_learner = GaussianNB()\n",
      "gaussian_learner.fit(train_data4, train_results4)\n",
      "gaussian_predictions = gaussian_learner.predict(test_data)\n",
      "\n",
      "ada_boost = AdaBoostClassifier()\n",
      "ada_boost.fit(train_data5, train_results5)\n",
      "ada_predictions = ada_boost.predict(test_data)"
     ],
     "language": "python",
     "metadata": {},
     "outputs": [],
     "prompt_number": 312
    },
    {
     "cell_type": "code",
     "collapsed": false,
     "input": [
      "democratic_predictions = (random_forest_predictions + gradient_predictions + extra_tree_predictions \n",
      "                          + gaussian_predictions + ada_predictions)"
     ],
     "language": "python",
     "metadata": {},
     "outputs": [],
     "prompt_number": 313
    },
    {
     "cell_type": "code",
     "collapsed": false,
     "input": [
      "democratic_results = []\n",
      "\n",
      "for element in democratic_predictions:\n",
      "    if element >= 3:\n",
      "        democratic_results.append(1)\n",
      "    else:\n",
      "        democratic_results.append(0)\n",
      "\n",
      "        \n",
      "democratic_predictions = np.array(democratic_results)"
     ],
     "language": "python",
     "metadata": {},
     "outputs": [],
     "prompt_number": 314
    },
    {
     "cell_type": "code",
     "collapsed": false,
     "input": [
      "show_results(test_results, democratic_predictions)"
     ],
     "language": "python",
     "metadata": {},
     "outputs": [
      {
       "output_type": "stream",
       "stream": "stdout",
       "text": [
        "             precision    recall  f1-score   support\n",
        "\n",
        "          0       0.95      0.96      0.96      1363\n",
        "          1       0.95      0.92      0.93       938\n",
        "\n",
        "avg / total       0.95      0.95      0.95      2301\n",
        "\n",
        "[[1313   50]\n",
        " [  72  866]]\n",
        "0.934196332255\n"
       ]
      }
     ],
     "prompt_number": 315
    },
    {
     "cell_type": "code",
     "collapsed": false,
     "input": [],
     "language": "python",
     "metadata": {},
     "outputs": []
    }
   ],
   "metadata": {}
  }
 ]
}