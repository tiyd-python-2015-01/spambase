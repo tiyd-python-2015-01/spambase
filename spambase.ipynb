{
 "metadata": {
  "name": "",
  "signature": "sha256:300534730948db671afbe39820a75ad1862b78cdc001d4c960770f590bbc0f8d"
 },
 "nbformat": 3,
 "nbformat_minor": 0,
 "worksheets": [
  {
   "cells": [
    {
     "cell_type": "code",
     "collapsed": false,
     "input": [
      "from sklearn.naive_bayes import GaussianNB, BernoulliNB, MultinomialNB\n",
      "from sklearn import metrics\n",
      "import pandas as pd"
     ],
     "language": "python",
     "metadata": {},
     "outputs": [],
     "prompt_number": 9
    },
    {
     "cell_type": "code",
     "collapsed": false,
     "input": [
      "train = pd.read_csv(\"spambase.data\")"
     ],
     "language": "python",
     "metadata": {},
     "outputs": [],
     "prompt_number": 10
    },
    {
     "cell_type": "code",
     "collapsed": false,
     "input": [
      "spam_or_not = train[\"1\"]"
     ],
     "language": "python",
     "metadata": {},
     "outputs": [],
     "prompt_number": 11
    },
    {
     "cell_type": "code",
     "collapsed": false,
     "input": [
      "train = train.drop(\"1\", 1)"
     ],
     "language": "python",
     "metadata": {},
     "outputs": [],
     "prompt_number": 12
    },
    {
     "cell_type": "heading",
     "level": 1,
     "metadata": {},
     "source": [
      "Gaussian"
     ]
    },
    {
     "cell_type": "code",
     "collapsed": false,
     "input": [
      "from sklearn.cross_validation import train_test_split\n",
      "X_train, X_test, y_train, y_test = train_test_split(train, spam_or_not, \n",
      "                                                    test_size=0.4, random_state=0)\n",
      "\n",
      "classifier = GaussianNB()\n",
      "classifier = classifier.fit(X_train, y_train)\n",
      "predicted = classifier.predict(X_test)\n",
      "\n",
      "\n",
      "print(metrics.classification_report(y_test, predicted))\n",
      "print(metrics.confusion_matrix(y_test, predicted))\n",
      "print(metrics.f1_score(y_test, predicted))\n",
      "\n",
      "from sklearn.cross_validation import cross_val_score\n",
      "\n",
      "scores = cross_val_score(classifier, train, spam_or_not, cv=5)"
     ],
     "language": "python",
     "metadata": {},
     "outputs": [
      {
       "output_type": "stream",
       "stream": "stdout",
       "text": [
        "             precision    recall  f1-score   support\n",
        "\n",
        "          0       0.97      0.69      0.80      1097\n",
        "          1       0.68      0.97      0.80       743\n",
        "\n",
        "avg / total       0.85      0.80      0.80      1840\n",
        "\n",
        "[[753 344]\n",
        " [ 23 720]]\n",
        "0.796900940786\n"
       ]
      }
     ],
     "prompt_number": 13
    },
    {
     "cell_type": "heading",
     "level": 1,
     "metadata": {},
     "source": [
      "Decision Tree"
     ]
    },
    {
     "cell_type": "code",
     "collapsed": false,
     "input": [
      "from sklearn.cross_validation import cross_val_score\n",
      "from sklearn.tree import DecisionTreeClassifier\n",
      "classifier = DecisionTreeClassifier(random_state=0)\n",
      "cvs = cross_val_score(classifier, train, spam_or_not, cv=10)\n",
      "\n",
      "print(\"Accuracy: %0.2f (+/- %0.2f)\" % (cvs.mean(), cvs.std() * 2))"
     ],
     "language": "python",
     "metadata": {},
     "outputs": [
      {
       "output_type": "stream",
       "stream": "stdout",
       "text": [
        "Accuracy: 0.90 (+/- 0.08)\n"
       ]
      }
     ],
     "prompt_number": 14
    },
    {
     "cell_type": "heading",
     "level": 1,
     "metadata": {},
     "source": [
      "Bernoulli"
     ]
    },
    {
     "cell_type": "code",
     "collapsed": false,
     "input": [
      "from sklearn.cross_validation import train_test_split\n",
      "X_train, X_test, y_train, y_test = train_test_split(train, spam_or_not, \n",
      "                                                    test_size=0.4, random_state=0)\n",
      "\n",
      "classifier = BernoulliNB()\n",
      "classifier = classifier.fit(X_train, y_train)\n",
      "predicted = classifier.predict(X_test)\n",
      "\n",
      "\n",
      "print(metrics.classification_report(y_test, predicted))\n",
      "print(metrics.confusion_matrix(y_test, predicted))\n",
      "print(metrics.f1_score(y_test, predicted))\n",
      "\n",
      "from sklearn.cross_validation import cross_val_score\n",
      "\n",
      "scores = cross_val_score(classifier, train, spam_or_not, cv=5)"
     ],
     "language": "python",
     "metadata": {},
     "outputs": [
      {
       "output_type": "stream",
       "stream": "stdout",
       "text": [
        "             precision    recall  f1-score   support\n",
        "\n",
        "          0       0.89      0.93      0.91      1097\n",
        "          1       0.89      0.83      0.86       743\n",
        "\n",
        "avg / total       0.89      0.89      0.89      1840\n",
        "\n",
        "[[1024   73]\n",
        " [ 130  613]]\n",
        "0.857942617215\n"
       ]
      }
     ],
     "prompt_number": 15
    },
    {
     "cell_type": "heading",
     "level": 1,
     "metadata": {},
     "source": [
      "Multinomial"
     ]
    },
    {
     "cell_type": "code",
     "collapsed": false,
     "input": [
      "from sklearn.cross_validation import train_test_split\n",
      "X_train, X_test, y_train, y_test = train_test_split(train, spam_or_not, \n",
      "                                                    test_size=0.4, random_state=0)\n",
      "\n",
      "classifier = MultinomialNB()\n",
      "classifier = classifier.fit(X_train, y_train)\n",
      "predicted = classifier.predict(X_test)\n",
      "\n",
      "\n",
      "print(metrics.classification_report(y_test, predicted))\n",
      "print(metrics.confusion_matrix(y_test, predicted))\n",
      "print(metrics.f1_score(y_test, predicted))\n",
      "\n",
      "from sklearn.cross_validation import cross_val_score\n",
      "\n",
      "scores = cross_val_score(classifier, train, spam_or_not, cv=5)"
     ],
     "language": "python",
     "metadata": {},
     "outputs": [
      {
       "output_type": "stream",
       "stream": "stdout",
       "text": [
        "             precision    recall  f1-score   support\n",
        "\n",
        "          0       0.82      0.83      0.83      1097\n",
        "          1       0.75      0.74      0.74       743\n",
        "\n",
        "avg / total       0.79      0.79      0.79      1840\n",
        "\n",
        "[[912 185]\n",
        " [196 547]]\n",
        "0.741694915254\n"
       ]
      }
     ],
     "prompt_number": 16
    },
    {
     "cell_type": "heading",
     "level": 1,
     "metadata": {},
     "source": [
      "Comparisons"
     ]
    },
    {
     "cell_type": "markdown",
     "metadata": {},
     "source": [
      "####Gaussian = .7969\n",
      "####Decision Tree = .90\n",
      "####Bernoulli = .8579\n",
      "####Multinomial = .7417"
     ]
    }
   ],
   "metadata": {}
  }
 ]
}