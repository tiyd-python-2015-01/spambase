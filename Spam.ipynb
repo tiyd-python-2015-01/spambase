{
 "metadata": {
  "name": "",
  "signature": "sha256:7163ce78356e17d317e12faf8c7d707f055a220a366b7517fe30843735c853ad"
 },
 "nbformat": 3,
 "nbformat_minor": 0,
 "worksheets": [
  {
   "cells": [
    {
     "cell_type": "code",
     "collapsed": false,
     "input": [
      "import pandas as pd\n",
      "import numpy as np\n",
      "import seaborn as sns\n",
      "import matplotlib.pyplot as plt\n",
      "import sklearn\n",
      "from sklearn.cross_validation import train_test_split\n",
      "from sklearn.naive_bayes import GaussianNB\n",
      "from sklearn import metrics\n",
      "from sklearn.cross_validation import cross_val_score\n",
      "from sklearn.ensemble import RandomForestClassifier \n",
      "from sklearn.tree import DecisionTreeClassifier, export_graphviz\n",
      "from sklearn.externals.six import StringIO  \n",
      "from sklearn.ensemble import ExtraTreesClassifier"
     ],
     "language": "python",
     "metadata": {},
     "outputs": [],
     "prompt_number": 102
    },
    {
     "cell_type": "code",
     "collapsed": false,
     "input": [
      "spam_data = pd.read_csv(\"spambase/spambase.data\")"
     ],
     "language": "python",
     "metadata": {},
     "outputs": [],
     "prompt_number": 5
    },
    {
     "cell_type": "code",
     "collapsed": false,
     "input": [
      "spam_data.head()"
     ],
     "language": "python",
     "metadata": {},
     "outputs": [
      {
       "html": [
        "<div style=\"max-height:1000px;max-width:1500px;overflow:auto;\">\n",
        "<table border=\"1\" class=\"dataframe\">\n",
        "  <thead>\n",
        "    <tr style=\"text-align: right;\">\n",
        "      <th></th>\n",
        "      <th>0</th>\n",
        "      <th>0.64</th>\n",
        "      <th>0.64.1</th>\n",
        "      <th>0.1</th>\n",
        "      <th>0.32</th>\n",
        "      <th>0.2</th>\n",
        "      <th>0.3</th>\n",
        "      <th>0.4</th>\n",
        "      <th>0.5</th>\n",
        "      <th>0.6</th>\n",
        "      <th>...</th>\n",
        "      <th>0.40</th>\n",
        "      <th>0.41</th>\n",
        "      <th>0.42</th>\n",
        "      <th>0.778</th>\n",
        "      <th>0.43</th>\n",
        "      <th>0.44</th>\n",
        "      <th>3.756</th>\n",
        "      <th>61</th>\n",
        "      <th>278</th>\n",
        "      <th>1</th>\n",
        "    </tr>\n",
        "  </thead>\n",
        "  <tbody>\n",
        "    <tr>\n",
        "      <th>0</th>\n",
        "      <td> 0.21</td>\n",
        "      <td> 0.28</td>\n",
        "      <td> 0.50</td>\n",
        "      <td> 0</td>\n",
        "      <td> 0</td>\n",
        "      <td> 0.28</td>\n",
        "      <td> 0.21</td>\n",
        "      <td> 0.07</td>\n",
        "      <td> 0.00</td>\n",
        "      <td> 0.94</td>\n",
        "      <td>...</td>\n",
        "      <td> 0.00</td>\n",
        "      <td> 0.132</td>\n",
        "      <td> 0</td>\n",
        "      <td> 0.372</td>\n",
        "      <td> 0.180</td>\n",
        "      <td> 0.048</td>\n",
        "      <td> 5.114</td>\n",
        "      <td> 101</td>\n",
        "      <td> 1028</td>\n",
        "      <td> 1</td>\n",
        "    </tr>\n",
        "    <tr>\n",
        "      <th>1</th>\n",
        "      <td> 0.06</td>\n",
        "      <td> 0.00</td>\n",
        "      <td> 0.71</td>\n",
        "      <td> 0</td>\n",
        "      <td> 0</td>\n",
        "      <td> 0.19</td>\n",
        "      <td> 0.19</td>\n",
        "      <td> 0.12</td>\n",
        "      <td> 0.64</td>\n",
        "      <td> 0.25</td>\n",
        "      <td>...</td>\n",
        "      <td> 0.01</td>\n",
        "      <td> 0.143</td>\n",
        "      <td> 0</td>\n",
        "      <td> 0.276</td>\n",
        "      <td> 0.184</td>\n",
        "      <td> 0.010</td>\n",
        "      <td> 9.821</td>\n",
        "      <td> 485</td>\n",
        "      <td> 2259</td>\n",
        "      <td> 1</td>\n",
        "    </tr>\n",
        "    <tr>\n",
        "      <th>2</th>\n",
        "      <td> 0.00</td>\n",
        "      <td> 0.00</td>\n",
        "      <td> 0.00</td>\n",
        "      <td> 0</td>\n",
        "      <td> 0</td>\n",
        "      <td> 0.00</td>\n",
        "      <td> 0.31</td>\n",
        "      <td> 0.63</td>\n",
        "      <td> 0.31</td>\n",
        "      <td> 0.63</td>\n",
        "      <td>...</td>\n",
        "      <td> 0.00</td>\n",
        "      <td> 0.137</td>\n",
        "      <td> 0</td>\n",
        "      <td> 0.137</td>\n",
        "      <td> 0.000</td>\n",
        "      <td> 0.000</td>\n",
        "      <td> 3.537</td>\n",
        "      <td>  40</td>\n",
        "      <td>  191</td>\n",
        "      <td> 1</td>\n",
        "    </tr>\n",
        "    <tr>\n",
        "      <th>3</th>\n",
        "      <td> 0.00</td>\n",
        "      <td> 0.00</td>\n",
        "      <td> 0.00</td>\n",
        "      <td> 0</td>\n",
        "      <td> 0</td>\n",
        "      <td> 0.00</td>\n",
        "      <td> 0.31</td>\n",
        "      <td> 0.63</td>\n",
        "      <td> 0.31</td>\n",
        "      <td> 0.63</td>\n",
        "      <td>...</td>\n",
        "      <td> 0.00</td>\n",
        "      <td> 0.135</td>\n",
        "      <td> 0</td>\n",
        "      <td> 0.135</td>\n",
        "      <td> 0.000</td>\n",
        "      <td> 0.000</td>\n",
        "      <td> 3.537</td>\n",
        "      <td>  40</td>\n",
        "      <td>  191</td>\n",
        "      <td> 1</td>\n",
        "    </tr>\n",
        "    <tr>\n",
        "      <th>4</th>\n",
        "      <td> 0.00</td>\n",
        "      <td> 0.00</td>\n",
        "      <td> 0.00</td>\n",
        "      <td> 0</td>\n",
        "      <td> 0</td>\n",
        "      <td> 0.00</td>\n",
        "      <td> 0.00</td>\n",
        "      <td> 1.85</td>\n",
        "      <td> 0.00</td>\n",
        "      <td> 0.00</td>\n",
        "      <td>...</td>\n",
        "      <td> 0.00</td>\n",
        "      <td> 0.223</td>\n",
        "      <td> 0</td>\n",
        "      <td> 0.000</td>\n",
        "      <td> 0.000</td>\n",
        "      <td> 0.000</td>\n",
        "      <td> 3.000</td>\n",
        "      <td>  15</td>\n",
        "      <td>   54</td>\n",
        "      <td> 1</td>\n",
        "    </tr>\n",
        "  </tbody>\n",
        "</table>\n",
        "<p>5 rows \u00d7 58 columns</p>\n",
        "</div>"
       ],
       "metadata": {},
       "output_type": "pyout",
       "prompt_number": 40,
       "text": [
        "      0  0.64  0.64.1  0.1  0.32   0.2   0.3   0.4   0.5   0.6 ...  0.40  \\\n",
        "0  0.21  0.28    0.50    0     0  0.28  0.21  0.07  0.00  0.94 ...  0.00   \n",
        "1  0.06  0.00    0.71    0     0  0.19  0.19  0.12  0.64  0.25 ...  0.01   \n",
        "2  0.00  0.00    0.00    0     0  0.00  0.31  0.63  0.31  0.63 ...  0.00   \n",
        "3  0.00  0.00    0.00    0     0  0.00  0.31  0.63  0.31  0.63 ...  0.00   \n",
        "4  0.00  0.00    0.00    0     0  0.00  0.00  1.85  0.00  0.00 ...  0.00   \n",
        "\n",
        "    0.41  0.42  0.778   0.43   0.44  3.756   61   278  1  \n",
        "0  0.132     0  0.372  0.180  0.048  5.114  101  1028  1  \n",
        "1  0.143     0  0.276  0.184  0.010  9.821  485  2259  1  \n",
        "2  0.137     0  0.137  0.000  0.000  3.537   40   191  1  \n",
        "3  0.135     0  0.135  0.000  0.000  3.537   40   191  1  \n",
        "4  0.223     0  0.000  0.000  0.000  3.000   15    54  1  \n",
        "\n",
        "[5 rows x 58 columns]"
       ]
      }
     ],
     "prompt_number": 40
    },
    {
     "cell_type": "code",
     "collapsed": false,
     "input": [
      "attributes_train, attributes_test, class_train, class_test = train_test_split(spam_data.loc[0::,\"0\":\"278\"], spam_data.loc[0::,\"1\"],\n",
      "                                                                              test_size=0.4, random_state=0)"
     ],
     "language": "python",
     "metadata": {},
     "outputs": [],
     "prompt_number": 25
    },
    {
     "cell_type": "code",
     "collapsed": false,
     "input": [],
     "language": "python",
     "metadata": {},
     "outputs": []
    },
    {
     "cell_type": "code",
     "collapsed": false,
     "input": [
      "spam_classifier = GaussianNB()\n",
      "spam_classifier = spam_classifier.fit(attributes_train, class_train)\n",
      "spam_classifier_predicted = spam_classifier.predict(attributes_test)\n",
      "\n",
      "\n",
      "print(metrics.classification_report(class_test, spam_classifier_predicted))\n",
      "print(metrics.confusion_matrix(class_test, spam_classifier_predicted))\n",
      "print(metrics.f1_score(class_test, spam_classifier_predicted))\n"
     ],
     "language": "python",
     "metadata": {},
     "outputs": [
      {
       "output_type": "stream",
       "stream": "stdout",
       "text": [
        "             precision    recall  f1-score   support\n",
        "\n",
        "          0       0.97      0.69      0.80      1097\n",
        "          1       0.68      0.97      0.80       743\n",
        "\n",
        "avg / total       0.85      0.80      0.80      1840\n",
        "\n",
        "[[753 344]\n",
        " [ 23 720]]\n",
        "0.796900940786\n"
       ]
      }
     ],
     "prompt_number": 34
    },
    {
     "cell_type": "code",
     "collapsed": false,
     "input": [
      "attributes_train1, attributes_test1, class_train1, class_test1 = train_test_split(spam_data.loc[0::,'0':\"61\"], spam_data.loc[0::,\"1\"],\n",
      "                                                                              test_size=0.4, random_state=0)"
     ],
     "language": "python",
     "metadata": {},
     "outputs": [],
     "prompt_number": 50
    },
    {
     "cell_type": "code",
     "collapsed": false,
     "input": [
      "spam_classifier1 = GaussianNB()\n",
      "spam_classifier1 = spam_classifier.fit(attributes_train1, class_train1)\n",
      "spam_classifier1_predicted = spam_classifier.predict(attributes_test1)\n",
      "\n",
      "\n",
      "print(metrics.classification_report(class_test1, spam_classifier1_predicted))\n",
      "print(metrics.confusion_matrix(class_test1, spam_classifier1_predicted))\n",
      "print(metrics.f1_score(class_test1, spam_classifier1_predicted))\n"
     ],
     "language": "python",
     "metadata": {},
     "outputs": [
      {
       "output_type": "stream",
       "stream": "stdout",
       "text": [
        "             precision    recall  f1-score   support\n",
        "\n",
        "          0       0.97      0.69      0.80      1097\n",
        "          1       0.68      0.97      0.80       743\n",
        "\n",
        "avg / total       0.85      0.80      0.80      1840\n",
        "\n",
        "[[753 344]\n",
        " [ 24 719]]\n",
        "0.796234772979\n"
       ]
      }
     ],
     "prompt_number": 51
    },
    {
     "cell_type": "code",
     "collapsed": false,
     "input": [
      "spam_tree = DecisionTreeClassifier(max_depth=9)\n",
      "spam_tree = spam_tree.fit(attributes_train, class_train)\n",
      "spam_tree_predicted = spam_tree.predict(attributes_test)\n",
      "spam_tree.score(attributes_test, class_test)\n",
      "print(metrics.classification_report(class_test, spam_tree_predicted))\n",
      "print(metrics.confusion_matrix(class_test, spam_tree_predicted))\n",
      "print(metrics.f1_score(class_test, spam_tree_predicted))\n",
      "print(spam_tree.feature_importances_)"
     ],
     "language": "python",
     "metadata": {},
     "outputs": [
      {
       "output_type": "stream",
       "stream": "stdout",
       "text": [
        "             precision    recall  f1-score   support\n",
        "\n",
        "          0       0.92      0.93      0.93      1097\n",
        "          1       0.90      0.87      0.89       743\n",
        "\n",
        "avg / total       0.91      0.91      0.91      1840\n",
        "\n",
        "[[1025   72]\n",
        " [  93  650]]\n",
        "0.887372013652\n",
        "[  2.31392918e-03   0.00000000e+00   1.68763082e-03   3.25196115e-04\n",
        "   0.00000000e+00   0.00000000e+00   1.31293870e-01   1.82750983e-02\n",
        "   3.30460724e-03   0.00000000e+00   1.58458202e-03   3.79484263e-03\n",
        "   0.00000000e+00   0.00000000e+00   0.00000000e+00   5.90793181e-02\n",
        "   1.40662021e-02   3.06292170e-03   6.15565104e-03   0.00000000e+00\n",
        "   7.79962363e-03   4.17765647e-03   7.24371642e-03   5.04865432e-03\n",
        "   5.32300916e-02   5.37706051e-03   1.63161820e-02   4.61239189e-03\n",
        "   1.46720557e-03   0.00000000e+00   0.00000000e+00   0.00000000e+00\n",
        "   1.63655313e-03   0.00000000e+00   0.00000000e+00   0.00000000e+00\n",
        "   2.80144899e-03   0.00000000e+00   0.00000000e+00   0.00000000e+00\n",
        "   0.00000000e+00   1.51486163e-02   0.00000000e+00   0.00000000e+00\n",
        "   1.40159933e-02   3.02534791e-02   0.00000000e+00   3.17977372e-03\n",
        "   8.80323342e-04   9.08473857e-03   0.00000000e+00   3.86274782e-01\n",
        "   4.31142731e-02   0.00000000e+00   1.23376893e-01   1.17022967e-02\n",
        "   8.31439756e-03]\n"
       ]
      }
     ],
     "prompt_number": 101
    },
    {
     "cell_type": "code",
     "collapsed": false,
     "input": [
      "def best_spam_tree(how_deep):\n",
      "    attributes_train, attributes_test, class_train, class_test = train_test_split(spam_data.loc[0::,\"0\":\"278\"], spam_data.loc[0::,\"1\"],\n",
      "                                                                                  test_size=0.4, random_state=0)\n",
      "    best_score = 0\n",
      "    best_depth =0\n",
      "    nums = [x for x in range(1, how_deep)]\n",
      "    for num in nums:\n",
      "        it_spam_tree = DecisionTreeClassifier(max_depth=(num+1))\n",
      "        it_spam_tree = it_spam_tree.fit(attributes_train, class_train)\n",
      "        score_percent = it_spam_tree.score(attributes_test, class_test)\n",
      "        if score_percent > best_score:\n",
      "            best_score = score_percent\n",
      "            best_depth = num\n",
      "    print(\"The best depth was {}, which got {}% correct.\".format(best_depth, best_score))\n",
      "    "
     ],
     "language": "python",
     "metadata": {},
     "outputs": [],
     "prompt_number": 98
    },
    {
     "cell_type": "code",
     "collapsed": false,
     "input": [
      "best_spam_tree(1000)"
     ],
     "language": "python",
     "metadata": {},
     "outputs": [
      {
       "output_type": "stream",
       "stream": "stdout",
       "text": [
        "The best depth was 9, which got 0.9157608695652174% correct.\n"
       ]
      }
     ],
     "prompt_number": 99
    },
    {
     "cell_type": "code",
     "collapsed": false,
     "input": [
      " it_spam_tree = DecisionTreeClassifier(max_depth=(2000))\n",
      " it_spam_tree = it_spam_tree.fit(attributes_train, class_train)\n",
      "spam_tree.score(attributes_test, class_test)"
     ],
     "language": "python",
     "metadata": {},
     "outputs": [
      {
       "metadata": {},
       "output_type": "pyout",
       "prompt_number": 91,
       "text": [
        "0.9070652173913043"
       ]
      }
     ],
     "prompt_number": 91
    },
    {
     "cell_type": "code",
     "collapsed": false,
     "input": [
      "def best_random_spam_tree(how_many, how_deep):\n",
      "    attributes_train, attributes_test, class_train, class_test = train_test_split(spam_data.loc[0::,\"0\":\"278\"], spam_data.loc[0::,\"1\"],\n",
      "                                                                                  test_size=0.4, random_state=0)\n",
      "    best_trees = 0\n",
      "    best_score = 0\n",
      "    best_depth =0\n",
      "    depth = [x for x in range(1, how_deep)]\n",
      "    trees = [x for x in range(1, how_many)]\n",
      "    for tree in trees:\n",
      "        for num in nums:\n",
      "            random_spam_tree = ExtraTreesClassifier(n_estimators=tree, max_depth=(num))\n",
      "            random_spam_tree = random_spam_tree.fit(attributes_train, class_train)\n",
      "            score_percent = random_spam_tree.score(attributes_test, class_test)\n",
      "            if score_percent > best_score:\n",
      "                best_score = score_percent\n",
      "                best_depth = num\n",
      "                best_trees = tree\n",
      "                best_classifier = random_spam_tree\n",
      "    print(\"Best number of trees was {} , and the  best depth was {}, which got {}% correct.\".format(best_trees, best_depth, best_score))\n",
      "    return best_classifier"
     ],
     "language": "python",
     "metadata": {},
     "outputs": [],
     "prompt_number": 114
    },
    {
     "cell_type": "code",
     "collapsed": false,
     "input": [],
     "language": "python",
     "metadata": {},
     "outputs": []
    },
    {
     "cell_type": "code",
     "collapsed": false,
     "input": [
      "random_tree = best_random_spam_tree(50, 50)"
     ],
     "language": "python",
     "metadata": {},
     "outputs": [
      {
       "output_type": "stream",
       "stream": "stdout",
       "text": [
        "Best number of trees was 36 , and the  best depth was 18, which got 0.9402173913043478% correct.\n"
       ]
      }
     ],
     "prompt_number": 115
    },
    {
     "cell_type": "code",
     "collapsed": false,
     "input": [
      "random_tree_predict = random_tree.predict(attributes_test)\n",
      "print(metrics.classification_report(class_test, random_tree_predict))\n",
      "print(metrics.confusion_matrix(class_test, random_tree_predict))\n",
      "print(metrics.f1_score(class_test, random_tree_predict))"
     ],
     "language": "python",
     "metadata": {},
     "outputs": [
      {
       "output_type": "stream",
       "stream": "stdout",
       "text": [
        "             precision    recall  f1-score   support\n",
        "\n",
        "          0       0.92      0.99      0.95      1097\n",
        "          1       0.98      0.87      0.92       743\n",
        "\n",
        "avg / total       0.94      0.94      0.94      1840\n",
        "\n",
        "[[1083   14]\n",
        " [  96  647]]\n",
        "0.921652421652\n"
       ]
      }
     ],
     "prompt_number": 116
    },
    {
     "cell_type": "code",
     "collapsed": false,
     "input": [],
     "language": "python",
     "metadata": {},
     "outputs": []
    }
   ],
   "metadata": {}
  }
 ]
}