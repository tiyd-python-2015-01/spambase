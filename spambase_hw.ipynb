{
 "metadata": {
  "name": "",
  "signature": "sha256:b2afb47ddb6ccf28e549643d27bf727ef9299a291c2d45366d45acd456dce7aa"
 },
 "nbformat": 3,
 "nbformat_minor": 0,
 "worksheets": [
  {
   "cells": [
    {
     "cell_type": "code",
     "collapsed": false,
     "input": [
      "import pandas as pd\n",
      "import numpy as np\n",
      "import matplotlib.pyplot as plt\n",
      "import seaborn as sb\n",
      "#plt.rc('figure', figsize=(25, 15))\n",
      "%matplotlib inline"
     ],
     "language": "python",
     "metadata": {},
     "outputs": [],
     "prompt_number": 52
    },
    {
     "cell_type": "code",
     "collapsed": false,
     "input": [
      "spambase = pd.read_csv(\"spambase/spambase.data\")"
     ],
     "language": "python",
     "metadata": {},
     "outputs": [],
     "prompt_number": 53
    },
    {
     "cell_type": "markdown",
     "metadata": {},
     "source": [
      "The last column in spambase tells whether it is spam or not.\n",
      "    \n",
      "    1 = Spam\n",
      "    0 = Not Spam"
     ]
    },
    {
     "cell_type": "code",
     "collapsed": false,
     "input": [
      "base_features_df = spambase.ix[:,:-1]\n",
      "base_features = spambase.ix[:,:-1].values"
     ],
     "language": "python",
     "metadata": {},
     "outputs": [],
     "prompt_number": 54
    },
    {
     "cell_type": "code",
     "collapsed": false,
     "input": [
      "base_spam = spambase.ix[:,-1:].values"
     ],
     "language": "python",
     "metadata": {},
     "outputs": [],
     "prompt_number": 55
    },
    {
     "cell_type": "code",
     "collapsed": false,
     "input": [
      "from sklearn.cross_validation import train_test_split\n",
      "feature_training, feature_test, spam_training, spam_test = train_test_split(base_features, base_spam, \n",
      "                                                    test_size=0.4)"
     ],
     "language": "python",
     "metadata": {},
     "outputs": [],
     "prompt_number": 56
    },
    {
     "cell_type": "code",
     "collapsed": false,
     "input": [
      "spam_training = np.ravel(spam_training)\n",
      "#spam_test = np.ravel(feature_test)\n"
     ],
     "language": "python",
     "metadata": {},
     "outputs": [],
     "prompt_number": 57
    },
    {
     "cell_type": "heading",
     "level": 3,
     "metadata": {},
     "source": [
      "Gaussian Naive Bayes"
     ]
    },
    {
     "cell_type": "code",
     "collapsed": false,
     "input": [
      "from sklearn.naive_bayes import GaussianNB\n",
      "classifier = GaussianNB()\n",
      "prediction = classifier.fit(feature_training, spam_training).predict(feature_test)"
     ],
     "language": "python",
     "metadata": {},
     "outputs": [],
     "prompt_number": 58
    },
    {
     "cell_type": "code",
     "collapsed": false,
     "input": [
      "from sklearn import metrics\n",
      "print(metrics.classification_report(spam_test, prediction))\n",
      "print(metrics.confusion_matrix(spam_test, prediction))\n",
      "print(metrics.f1_score(spam_test, prediction))"
     ],
     "language": "python",
     "metadata": {},
     "outputs": [
      {
       "output_type": "stream",
       "stream": "stdout",
       "text": [
        "             precision    recall  f1-score   support\n",
        "\n",
        "          0       0.97      0.71      0.82      1135\n",
        "          1       0.67      0.96      0.79       705\n",
        "\n",
        "avg / total       0.85      0.80      0.81      1840\n",
        "\n",
        "[[801 334]\n",
        " [ 26 679]]\n",
        "0.790454016298\n"
       ]
      }
     ],
     "prompt_number": 59
    },
    {
     "cell_type": "heading",
     "level": 3,
     "metadata": {},
     "source": [
      "Decision Tree Analysis"
     ]
    },
    {
     "cell_type": "code",
     "collapsed": false,
     "input": [
      "from sklearn import tree\n",
      "classifier = tree.DecisionTreeClassifier()\n",
      "prediction = classifier.fit(feature_training, spam_training).predict(feature_test)"
     ],
     "language": "python",
     "metadata": {},
     "outputs": [],
     "prompt_number": 60
    },
    {
     "cell_type": "code",
     "collapsed": false,
     "input": [
      "from sklearn import metrics\n",
      "print(metrics.classification_report(spam_test, prediction))\n",
      "print(metrics.confusion_matrix(spam_test, prediction))\n",
      "print(metrics.f1_score(spam_test, prediction))"
     ],
     "language": "python",
     "metadata": {},
     "outputs": [
      {
       "output_type": "stream",
       "stream": "stdout",
       "text": [
        "             precision    recall  f1-score   support\n",
        "\n",
        "          0       0.93      0.92      0.93      1135\n",
        "          1       0.87      0.89      0.88       705\n",
        "\n",
        "avg / total       0.91      0.91      0.91      1840\n",
        "\n",
        "[[1042   93]\n",
        " [  75  630]]\n",
        "0.882352941176\n"
       ]
      }
     ],
     "prompt_number": 61
    },
    {
     "cell_type": "heading",
     "level": 3,
     "metadata": {},
     "source": [
      "Decision Tree with limited Depth"
     ]
    },
    {
     "cell_type": "code",
     "collapsed": false,
     "input": [
      "from sklearn import tree\n",
      "from sklearn import metrics\n",
      "best_depth = 0\n",
      "best_score = 0\n",
      "scores = []\n",
      "for n in range(1,100):\n",
      "    classifier = tree.DecisionTreeClassifier(max_depth=n)\n",
      "    prediction = classifier.fit(feature_training, spam_training).predict(feature_test)\n",
      "    score = metrics.f1_score(spam_test, prediction)\n",
      "    scores.append(score)\n",
      "    if score > best_score:\n",
      "        best_depth = n\n",
      "        best_score = score\n",
      "print(\"Best Score: {}\\nBest Depth: {}\".format(best_score,best_depth))"
     ],
     "language": "python",
     "metadata": {},
     "outputs": [
      {
       "output_type": "stream",
       "stream": "stdout",
       "text": [
        "Best Score: 0.8943206326383896\n",
        "Best Depth: 12\n"
       ]
      }
     ],
     "prompt_number": 105
    },
    {
     "cell_type": "code",
     "collapsed": false,
     "input": [
      "tree_df = pd.DataFrame(scores)\n",
      "tree_df.plot(title=\"Progress of Decision Tree over Depth\")\n",
      "max_x = scores.index(max(scores))+1\n",
      "plt.vlines(max_x,0,1,color='red',label='Max = {}'.format(max_x))\n",
      "plt.legend(loc='best')"
     ],
     "language": "python",
     "metadata": {},
     "outputs": [
      {
       "metadata": {},
       "output_type": "pyout",
       "prompt_number": 106,
       "text": [
        "<matplotlib.legend.Legend at 0x11478be10>"
       ]
      },
      {
       "metadata": {},
       "output_type": "display_data",
       "png": "[encoded data removed]",
       "text": [
        "<matplotlib.figure.Figure at 0x11478bd68>"
       ]
      }
     ],
     "prompt_number": 106
    },
    {
     "cell_type": "code",
     "collapsed": false,
     "input": [
      "classifier = tree.DecisionTreeClassifier(max_depth=best_depth)\n",
      "prediction = classifier.fit(feature_training, spam_training).predict(feature_test)\n",
      "print(metrics.classification_report(spam_test, prediction))\n",
      "print(metrics.confusion_matrix(spam_test, prediction))\n",
      "print(metrics.f1_score(spam_test, prediction))"
     ],
     "language": "python",
     "metadata": {},
     "outputs": [
      {
       "output_type": "stream",
       "stream": "stdout",
       "text": [
        "             precision    recall  f1-score   support\n",
        "\n",
        "          0       0.93      0.95      0.94      1135\n",
        "          1       0.91      0.88      0.89       705\n",
        "\n",
        "avg / total       0.92      0.92      0.92      1840\n",
        "\n",
        "[[1074   61]\n",
        " [  87  618]]\n",
        "0.893063583815\n"
       ]
      }
     ],
     "prompt_number": 63
    },
    {
     "cell_type": "heading",
     "level": 3,
     "metadata": {},
     "source": [
      "Parse a DOT file and replace the numPy index with the Dataframe Column"
     ]
    },
    {
     "cell_type": "code",
     "collapsed": false,
     "input": [
      "from sklearn.externals.six import StringIO\n",
      "\"\"\" Requires dot which can be installed from http://www.graphviz.org \"\"\"\n",
      "with open(\"tree.dot\", 'w') as f:\n",
      "    f = tree.export_graphviz(classifier, out_file=f)"
     ],
     "language": "python",
     "metadata": {},
     "outputs": [],
     "prompt_number": 64
    },
    {
     "cell_type": "code",
     "collapsed": false,
     "input": [
      "def parse_dot(features_df,filename):\n",
      "    \"\"\" features_df is the dataframe of features used in the decision tree.\n",
      "    Create a dictionary where keys are nparray indices and\n",
      "    values are the dataframe indices. \"\"\"\n",
      "    columns = features_df.columns\n",
      "    col_dict = {}\n",
      "    for n in range(0,len(columns)):\n",
      "        col_dict[\"X[{}]\".format(n)] = columns[n]\n",
      "    \"\"\" Open the .dot file. \"\"\"\n",
      "    with open(filename, 'r') as dotfile:\n",
      "        dot = dotfile.read()\n",
      "    \"\"\" Loop through each key in the dictionary and replace with value. \"\"\"\n",
      "    for key in col_dict:\n",
      "        dot = dot.replace(key,col_dict[key])\n",
      "    with open(filename, 'w') as dotfile:\n",
      "        dotfile.write(dot)\n",
      "    dotfile.close()\n"
     ],
     "language": "python",
     "metadata": {},
     "outputs": [],
     "prompt_number": 65
    },
    {
     "cell_type": "code",
     "collapsed": false,
     "input": [
      "parse_dot(base_features_df,\"tree.dot\")\n",
      "!dot -Tpdf tree.dot -o tree.pdf\n"
     ],
     "language": "python",
     "metadata": {},
     "outputs": [
      {
       "output_type": "stream",
       "stream": "stdout",
       "text": [
        "Feb 10 20:20:15 Jasons-MBP dot[16478] <Error>: The function \u2018CGFontGetGlyphPath\u2019 is obsolete and will be removed in an upcoming update. Unfortunately, this application, or a library it uses, is using this obsolete function, and is thereby contributing to an overall degradation of system performance.\r\n",
        "Feb 10 20:20:15 Jasons-MBP dot[16478] <Error>: The function \u2018CGFontGetGlyphPaths\u2019 is obsolete and will be removed in an upcoming update. Unfortunately, this application, or a library it uses, is using this obsolete function, and is thereby contributing to an overall degradation of system performance.\r\n"
       ]
      }
     ],
     "prompt_number": 66
    },
    {
     "cell_type": "heading",
     "level": 3,
     "metadata": {},
     "source": [
      "Random Forest Ensemble"
     ]
    },
    {
     "cell_type": "code",
     "collapsed": false,
     "input": [
      "from sklearn.ensemble import RandomForestClassifier\n",
      "best_depth = 0\n",
      "best_score = 0\n",
      "scores = []\n",
      "for n in range(1,50):\n",
      "    classifier = RandomForestClassifier(n_estimators=n)\n",
      "    prediction = classifier.fit(feature_training, spam_training).predict(feature_test)\n",
      "    score = metrics.f1_score(spam_test, prediction)\n",
      "    scores.append(score)\n",
      "    if score > best_score:\n",
      "        best_depth = n\n",
      "        best_score = score\n",
      "print(\"Best Score: {}\\nBest Depth: {}\".format(best_score,best_depth))"
     ],
     "language": "python",
     "metadata": {},
     "outputs": [
      {
       "output_type": "stream",
       "stream": "stdout",
       "text": [
        "Best Score: 0.9374999999999999\n",
        "Best Depth: 32\n"
       ]
      }
     ],
     "prompt_number": 107
    },
    {
     "cell_type": "code",
     "collapsed": false,
     "input": [
      "forest_df = pd.DataFrame(scores)\n",
      "forest_df.plot(title=\"Progress of Random Forest over n_estimators\")\n",
      "max_x = scores.index(max(scores))+1\n",
      "plt.vlines(max_x,0,1,color='red',label=\"Max = {}\".format(max_x))\n",
      "plt.legend(loc='best')"
     ],
     "language": "python",
     "metadata": {},
     "outputs": [
      {
       "metadata": {},
       "output_type": "pyout",
       "prompt_number": 108,
       "text": [
        "<matplotlib.legend.Legend at 0x11485d630>"
       ]
      },
      {
       "metadata": {},
       "output_type": "display_data",
       "png": "[encoded data removed]",
       "text": [
        "<matplotlib.figure.Figure at 0x11485d6d8>"
       ]
      }
     ],
     "prompt_number": 108
    },
    {
     "cell_type": "code",
     "collapsed": false,
     "input": [
      "print(metrics.classification_report(spam_test, prediction))\n",
      "print(metrics.confusion_matrix(spam_test, prediction))\n",
      "print(metrics.f1_score(spam_test, prediction))"
     ],
     "language": "python",
     "metadata": {},
     "outputs": [
      {
       "output_type": "stream",
       "stream": "stdout",
       "text": [
        "             precision    recall  f1-score   support\n",
        "\n",
        "          0       0.94      0.97      0.95      1135\n",
        "          1       0.94      0.90      0.92       705\n",
        "\n",
        "avg / total       0.94      0.94      0.94      1840\n",
        "\n",
        "[[1096   39]\n",
        " [  71  634]]\n",
        "0.920174165457\n"
       ]
      }
     ],
     "prompt_number": 69
    },
    {
     "cell_type": "code",
     "collapsed": false,
     "input": [],
     "language": "python",
     "metadata": {},
     "outputs": []
    }
   ],
   "metadata": {}
  }
 ]
}